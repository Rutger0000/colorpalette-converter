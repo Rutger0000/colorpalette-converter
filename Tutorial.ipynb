{
 "cells": [
  {
   "cell_type": "markdown",
   "metadata": {},
   "source": [
    "## Usage"
   ]
  },
  {
   "cell_type": "code",
   "execution_count": 1,
   "metadata": {},
   "outputs": [],
   "source": [
    "import colorpaletteconverter as cv"
   ]
  },
  {
   "cell_type": "code",
   "execution_count": 2,
   "metadata": {},
   "outputs": [],
   "source": [
    "# Create the palette, named \"MyPythonPalette\"\n",
    "mypalette = cv.Palette(\"MyPythonPalette\")"
   ]
  },
  {
   "cell_type": "code",
   "execution_count": 3,
   "metadata": {},
   "outputs": [],
   "source": [
    "# Add a color using a key e.g. \"White\" and color described by (r, g, b, a)\n",
    "mypalette.add_color((1,1,1,1), \"White\")"
   ]
  },
  {
   "cell_type": "code",
   "execution_count": 4,
   "metadata": {},
   "outputs": [],
   "source": [
    "mypalette.add_color((1,0,0,1), \"Red\")\n",
    "mypalette.add_color((0,1,0,1), \"Green\")\n",
    "mypalette.add_color((0,0,1,1), \"Blue\")\n",
    "mypalette.add_color((0,0,1,0.5), \"Translucent blue\")"
   ]
  },
  {
   "cell_type": "code",
   "execution_count": 5,
   "metadata": {},
   "outputs": [
    {
     "data": {
      "text/plain": [
       "(True, None)"
      ]
     },
     "execution_count": 5,
     "metadata": {},
     "output_type": "execute_result"
    }
   ],
   "source": [
    "# Save it to the default location. This will make it visible in the MacOS color palette.\n",
    "mypalette.save()"
   ]
  },
  {
   "cell_type": "markdown",
   "metadata": {},
   "source": [
    "## Usage with matplotlib"
   ]
  },
  {
   "cell_type": "code",
   "execution_count": 6,
   "metadata": {},
   "outputs": [],
   "source": [
    "import colorpaletteconverter as cv\n",
    "import matplotlib.colors as mcolors"
   ]
  },
  {
   "cell_type": "markdown",
   "metadata": {},
   "source": [
    "Choose a matplotlib color palette, more about that at: https://matplotlib.org/stable/gallery/color/named_colors.html"
   ]
  },
  {
   "cell_type": "code",
   "execution_count": 7,
   "metadata": {},
   "outputs": [],
   "source": [
    "colors_to_convert = mcolors.BASE_COLORS"
   ]
  },
  {
   "cell_type": "markdown",
   "metadata": {},
   "source": [
    "Or try"
   ]
  },
  {
   "cell_type": "code",
   "execution_count": 8,
   "metadata": {},
   "outputs": [],
   "source": [
    "colors_to_convert = mcolors.CSS4_COLORS "
   ]
  },
  {
   "cell_type": "code",
   "execution_count": 9,
   "metadata": {},
   "outputs": [],
   "source": [
    "# Create the palette\n",
    "matplotlib_base_palette = cv.Palette(\"Matplotlib\")"
   ]
  },
  {
   "cell_type": "code",
   "execution_count": 10,
   "metadata": {},
   "outputs": [],
   "source": [
    "# Add the matplotlib colors to the palette\n",
    "for key, color in colors_to_convert.items():\n",
    "    matplotlib_base_palette.add_color(mcolors.to_rgba(color), key)"
   ]
  },
  {
   "cell_type": "code",
   "execution_count": 11,
   "metadata": {},
   "outputs": [
    {
     "data": {
      "text/plain": [
       "(True, None)"
      ]
     },
     "execution_count": 11,
     "metadata": {},
     "output_type": "execute_result"
    }
   ],
   "source": [
    "# Save the palette\n",
    "matplotlib_base_palette.save()"
   ]
  },
  {
   "cell_type": "markdown",
   "metadata": {},
   "source": [
    "## Usage with Matplotlib and colormaps"
   ]
  },
  {
   "cell_type": "markdown",
   "metadata": {},
   "source": [
    "More information about colormaps in Matplotlib: https://matplotlib.org/3.1.0/tutorials/colors/colormap-manipulation.html"
   ]
  },
  {
   "cell_type": "code",
   "execution_count": 12,
   "metadata": {},
   "outputs": [],
   "source": [
    "import numpy as np\n",
    "from matplotlib import cm\n",
    "import matplotlib.colors as mcolors\n",
    "import colorpaletteconverter as cv"
   ]
  },
  {
   "cell_type": "markdown",
   "metadata": {},
   "source": [
    "Matplotlib colormaps are listed here: https://matplotlib.org/stable/tutorials/colors/colormaps.html"
   ]
  },
  {
   "cell_type": "code",
   "execution_count": 13,
   "metadata": {},
   "outputs": [
    {
     "name": "stderr",
     "output_type": "stream",
     "text": [
      "/var/folders/11/46j3b7qj57d234fkyfyj9pk80000gn/T/ipykernel_70203/955775784.py:1: MatplotlibDeprecationWarning: The get_cmap function was deprecated in Matplotlib 3.7 and will be removed two minor releases later. Use ``matplotlib.colormaps[name]`` or ``matplotlib.colormaps.get_cmap(obj)`` instead.\n",
      "  mycolormap = cm.get_cmap('viridis', 8)\n"
     ]
    }
   ],
   "source": [
    "mycolormap = cm.get_cmap('viridis', 8)"
   ]
  },
  {
   "cell_type": "markdown",
   "metadata": {},
   "source": [
    "Or try twilight"
   ]
  },
  {
   "cell_type": "code",
   "execution_count": 52,
   "metadata": {},
   "outputs": [],
   "source": [
    "mycolormap = cm.get_cmap('twilight', 8)"
   ]
  },
  {
   "cell_type": "code",
   "execution_count": 3,
   "metadata": {},
   "outputs": [],
   "source": [
    "# Create the palette\n",
    "matplotlib_base_palette = cv.Palette(\"Matplotlib Colormap\")"
   ]
  },
  {
   "cell_type": "code",
   "execution_count": 4,
   "metadata": {},
   "outputs": [
    {
     "name": "stdout",
     "output_type": "stream",
     "text": [
      "mycolormap.colors [[0.267004 0.004874 0.329415 1.      ]\n",
      " [0.275191 0.194905 0.496005 1.      ]\n",
      " [0.212395 0.359683 0.55171  1.      ]\n",
      " [0.153364 0.497    0.557724 1.      ]\n",
      " [0.122312 0.633153 0.530398 1.      ]\n",
      " [0.288921 0.758394 0.428426 1.      ]\n",
      " [0.626579 0.854645 0.223353 1.      ]\n",
      " [0.993248 0.906157 0.143936 1.      ]]\n"
     ]
    }
   ],
   "source": [
    "print('mycolormap.colors', mycolormap.colors)"
   ]
  },
  {
   "cell_type": "code",
   "execution_count": 5,
   "metadata": {},
   "outputs": [],
   "source": [
    "for color in mycolormap.colors:\n",
    "    matplotlib_base_palette.add_color(color, \"{}\".format(mcolors.to_hex(color)))"
   ]
  },
  {
   "cell_type": "code",
   "execution_count": 6,
   "metadata": {},
   "outputs": [
    {
     "data": {
      "text/plain": [
       "(True, None)"
      ]
     },
     "execution_count": 6,
     "metadata": {},
     "output_type": "execute_result"
    }
   ],
   "source": [
    "# Save the palette\n",
    "matplotlib_base_palette.save()"
   ]
  }
 ],
 "metadata": {
  "kernelspec": {
   "display_name": "Python 3",
   "language": "python",
   "name": "python3"
  },
  "language_info": {
   "codemirror_mode": {
    "name": "ipython",
    "version": 3
   },
   "file_extension": ".py",
   "mimetype": "text/x-python",
   "name": "python",
   "nbconvert_exporter": "python",
   "pygments_lexer": "ipython3",
   "version": "3.11.5"
  }
 },
 "nbformat": 4,
 "nbformat_minor": 2
}
